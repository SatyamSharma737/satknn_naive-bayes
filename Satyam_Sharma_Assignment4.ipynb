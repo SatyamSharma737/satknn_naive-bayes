{
  "nbformat": 4,
  "nbformat_minor": 0,
  "metadata": {
    "colab": {
      "name": "Satyam_Sharma_Assignment4.ipynb",
      "provenance": [],
      "collapsed_sections": []
    },
    "kernelspec": {
      "name": "python3",
      "display_name": "Python 3"
    }
  },
  "cells": [
    {
      "cell_type": "code",
      "metadata": {
        "id": "ZwOO9i_QZr78"
      },
      "source": [
        "# # Data Preprocessing\n",
        "# Importing the libraries\n",
        "import numpy as np\n",
        "import matplotlib.pyplot as plt\n",
        "import pandas as pd"
      ],
      "execution_count": null,
      "outputs": []
    },
    {
      "cell_type": "code",
      "metadata": {
        "id": "A4Qo-Jl2aG_j",
        "colab": {
          "base_uri": "https://localhost:8080/"
        },
        "outputId": "ee402fc6-cd25-4498-9a06-396ca7b9bd7a"
      },
      "source": [
        "# Mounting Google Drive\n",
        "from google.colab import drive\n",
        "drive.mount('/content/drive')"
      ],
      "execution_count": null,
      "outputs": [
        {
          "output_type": "stream",
          "text": [
            "Mounted at /content/drive\n"
          ],
          "name": "stdout"
        }
      ]
    },
    {
      "cell_type": "code",
      "metadata": {
        "id": "3HnItOnpPkgs",
        "colab": {
          "base_uri": "https://localhost:8080/"
        },
        "outputId": "85993614-010a-4a3d-c015-ca3b0e0cb26e"
      },
      "source": [
        "path = 'https://raw.githubusercontent.com/umangkejriwal1122/Machine-Learning/master/Data%20Sets/titanic.csv'\n",
        "print(path)"
      ],
      "execution_count": null,
      "outputs": [
        {
          "output_type": "stream",
          "text": [
            "https://raw.githubusercontent.com/umangkejriwal1122/Machine-Learning/master/Data%20Sets/titanic.csv\n"
          ],
          "name": "stdout"
        }
      ]
    },
    {
      "cell_type": "code",
      "metadata": {
        "id": "uWaP03H3QYzq"
      },
      "source": [
        "# Importing the dataset from Google Drive\n",
        "dataset = pd.read_csv(path)"
      ],
      "execution_count": null,
      "outputs": []
    },
    {
      "cell_type": "code",
      "metadata": {
        "id": "nWZK_f-VaxXO",
        "colab": {
          "base_uri": "https://localhost:8080/"
        },
        "outputId": "7424ffe8-ad5d-48e9-d06d-428485460ea8"
      },
      "source": [
        "print(dataset)"
      ],
      "execution_count": null,
      "outputs": [
        {
          "output_type": "stream",
          "text": [
            "     PassengerId  Survived  Pclass  ...     Fare Cabin  Embarked\n",
            "0              1         0       3  ...   7.2500   NaN         S\n",
            "1              2         1       1  ...  71.2833   C85         C\n",
            "2              3         1       3  ...   7.9250   NaN         S\n",
            "3              4         1       1  ...  53.1000  C123         S\n",
            "4              5         0       3  ...   8.0500   NaN         S\n",
            "..           ...       ...     ...  ...      ...   ...       ...\n",
            "886          887         0       2  ...  13.0000   NaN         S\n",
            "887          888         1       1  ...  30.0000   B42         S\n",
            "888          889         0       3  ...  23.4500   NaN         S\n",
            "889          890         1       1  ...  30.0000  C148         C\n",
            "890          891         0       3  ...   7.7500   NaN         Q\n",
            "\n",
            "[891 rows x 12 columns]\n"
          ],
          "name": "stdout"
        }
      ]
    },
    {
      "cell_type": "code",
      "metadata": {
        "id": "8KuMSHFcsd7i",
        "colab": {
          "base_uri": "https://localhost:8080/"
        },
        "outputId": "9c2eee40-0345-4a52-d0af-077dafc81094"
      },
      "source": [
        "#Print Total number of Rows & columns in dataset\n",
        "print(dataset.shape)"
      ],
      "execution_count": null,
      "outputs": [
        {
          "output_type": "stream",
          "text": [
            "(891, 12)\n"
          ],
          "name": "stdout"
        }
      ]
    },
    {
      "cell_type": "code",
      "metadata": {
        "id": "f0EXfPEysiJT",
        "colab": {
          "base_uri": "https://localhost:8080/"
        },
        "outputId": "dab8d46f-8f12-4016-c3a5-84b93018da1b"
      },
      "source": [
        "#Print Imformation about data\n",
        "dataset.info()"
      ],
      "execution_count": null,
      "outputs": [
        {
          "output_type": "stream",
          "text": [
            "<class 'pandas.core.frame.DataFrame'>\n",
            "RangeIndex: 891 entries, 0 to 890\n",
            "Data columns (total 12 columns):\n",
            " #   Column       Non-Null Count  Dtype  \n",
            "---  ------       --------------  -----  \n",
            " 0   PassengerId  891 non-null    int64  \n",
            " 1   Survived     891 non-null    int64  \n",
            " 2   Pclass       891 non-null    int64  \n",
            " 3   Name         891 non-null    object \n",
            " 4   Sex          891 non-null    object \n",
            " 5   Age          714 non-null    float64\n",
            " 6   SibSp        891 non-null    int64  \n",
            " 7   Parch        891 non-null    int64  \n",
            " 8   Ticket       891 non-null    object \n",
            " 9   Fare         891 non-null    float64\n",
            " 10  Cabin        204 non-null    object \n",
            " 11  Embarked     889 non-null    object \n",
            "dtypes: float64(2), int64(5), object(5)\n",
            "memory usage: 83.7+ KB\n"
          ],
          "name": "stdout"
        }
      ]
    },
    {
      "cell_type": "code",
      "metadata": {
        "id": "2zKNMDhssqqU",
        "colab": {
          "base_uri": "https://localhost:8080/"
        },
        "outputId": "664570f0-0c85-41f4-fff1-7dbe0dfe77b4"
      },
      "source": [
        "# Data type information\n",
        "types = dataset.dtypes\n",
        "print(types)"
      ],
      "execution_count": null,
      "outputs": [
        {
          "output_type": "stream",
          "text": [
            "PassengerId      int64\n",
            "Survived         int64\n",
            "Pclass           int64\n",
            "Name            object\n",
            "Sex             object\n",
            "Age            float64\n",
            "SibSp            int64\n",
            "Parch            int64\n",
            "Ticket          object\n",
            "Fare           float64\n",
            "Cabin           object\n",
            "Embarked        object\n",
            "dtype: object\n"
          ],
          "name": "stdout"
        }
      ]
    },
    {
      "cell_type": "code",
      "metadata": {
        "id": "PzOKGILpsu5U",
        "colab": {
          "base_uri": "https://localhost:8080/"
        },
        "outputId": "52192758-c551-41f8-9602-1c52cfb3d766"
      },
      "source": [
        "#Count total number of rank in Data\n",
        "class_counts = dataset.groupby('Pclass').size()\n",
        "print(class_counts)"
      ],
      "execution_count": null,
      "outputs": [
        {
          "output_type": "stream",
          "text": [
            "Pclass\n",
            "1    216\n",
            "2    184\n",
            "3    491\n",
            "dtype: int64\n"
          ],
          "name": "stdout"
        }
      ]
    },
    {
      "cell_type": "code",
      "metadata": {
        "id": "PjRwQicEs_BM",
        "colab": {
          "base_uri": "https://localhost:8080/"
        },
        "outputId": "5ea99c26-d362-46a6-f925-4b686f5dab30"
      },
      "source": [
        "\n",
        "#Count total number of rank in Data\n",
        "class_counts = dataset.groupby('SibSp').size()\n",
        "print(class_counts)"
      ],
      "execution_count": null,
      "outputs": [
        {
          "output_type": "stream",
          "text": [
            "SibSp\n",
            "0    608\n",
            "1    209\n",
            "2     28\n",
            "3     16\n",
            "4     18\n",
            "5      5\n",
            "8      7\n",
            "dtype: int64\n"
          ],
          "name": "stdout"
        }
      ]
    },
    {
      "cell_type": "code",
      "metadata": {
        "id": "WpwMxE3XtQCa",
        "colab": {
          "base_uri": "https://localhost:8080/"
        },
        "outputId": "9fdbee94-732b-4d47-dcb5-dee850c5d113"
      },
      "source": [
        "\n",
        "\n",
        "#Count total number of rank in Data\n",
        "class_counts = dataset.groupby('Parch').size()\n",
        "print(class_counts)"
      ],
      "execution_count": null,
      "outputs": [
        {
          "output_type": "stream",
          "text": [
            "Parch\n",
            "0    678\n",
            "1    118\n",
            "2     80\n",
            "3      5\n",
            "4      4\n",
            "5      5\n",
            "6      1\n",
            "dtype: int64\n"
          ],
          "name": "stdout"
        }
      ]
    },
    {
      "cell_type": "code",
      "metadata": {
        "id": "pZV4Q5Sgtfuy",
        "colab": {
          "base_uri": "https://localhost:8080/"
        },
        "outputId": "4dfbc344-6112-44c9-c912-d2b07cf04ac8"
      },
      "source": [
        "\n",
        "#Count total number of rank in Data\n",
        "class_counts = dataset.groupby('Ticket').size()\n",
        "print(class_counts)"
      ],
      "execution_count": null,
      "outputs": [
        {
          "output_type": "stream",
          "text": [
            "Ticket\n",
            "110152         3\n",
            "110413         3\n",
            "110465         2\n",
            "110564         1\n",
            "110813         1\n",
            "              ..\n",
            "W./C. 6608     4\n",
            "W./C. 6609     1\n",
            "W.E.P. 5734    1\n",
            "W/C 14208      1\n",
            "WE/P 5735      2\n",
            "Length: 681, dtype: int64\n"
          ],
          "name": "stdout"
        }
      ]
    },
    {
      "cell_type": "code",
      "metadata": {
        "id": "daC50T0LumYa"
      },
      "source": [
        "X=dataset[[\"Age\",\"SibSp\",\"Parch\",\"Fare\",\"Sex\",\"Pclass\"]]\n",
        "y=dataset[\"Survived\"]"
      ],
      "execution_count": null,
      "outputs": []
    },
    {
      "cell_type": "code",
      "metadata": {
        "id": "VWqeqy-1bL4U",
        "colab": {
          "base_uri": "https://localhost:8080/"
        },
        "outputId": "51964cf2-af63-4b85-b33d-56422257e81c"
      },
      "source": [
        "print(X)"
      ],
      "execution_count": null,
      "outputs": [
        {
          "output_type": "stream",
          "text": [
            "      Age  SibSp  Parch     Fare     Sex  Pclass\n",
            "0    22.0      1      0   7.2500    male       3\n",
            "1    38.0      1      0  71.2833  female       1\n",
            "2    26.0      0      0   7.9250  female       3\n",
            "3    35.0      1      0  53.1000  female       1\n",
            "4    35.0      0      0   8.0500    male       3\n",
            "..    ...    ...    ...      ...     ...     ...\n",
            "886  27.0      0      0  13.0000    male       2\n",
            "887  19.0      0      0  30.0000  female       1\n",
            "888   NaN      1      2  23.4500  female       3\n",
            "889  26.0      0      0  30.0000    male       1\n",
            "890  32.0      0      0   7.7500    male       3\n",
            "\n",
            "[891 rows x 6 columns]\n"
          ],
          "name": "stdout"
        }
      ]
    },
    {
      "cell_type": "code",
      "metadata": {
        "id": "KrRWpkzbbS4P",
        "colab": {
          "base_uri": "https://localhost:8080/"
        },
        "outputId": "10e85df1-8271-4b02-b0c2-d9b2a9347a8d"
      },
      "source": [
        "print(y)"
      ],
      "execution_count": null,
      "outputs": [
        {
          "output_type": "stream",
          "text": [
            "0      0\n",
            "1      1\n",
            "2      1\n",
            "3      1\n",
            "4      0\n",
            "      ..\n",
            "886    0\n",
            "887    1\n",
            "888    0\n",
            "889    1\n",
            "890    0\n",
            "Name: Survived, Length: 891, dtype: int64\n"
          ],
          "name": "stdout"
        }
      ]
    },
    {
      "cell_type": "code",
      "metadata": {
        "id": "Dx8EO0l4vist",
        "colab": {
          "base_uri": "https://localhost:8080/"
        },
        "outputId": "313f5f71-cb74-40f6-d33e-7192251be5e7"
      },
      "source": [
        "X.isnull().sum()"
      ],
      "execution_count": null,
      "outputs": [
        {
          "output_type": "execute_result",
          "data": {
            "text/plain": [
              "Age       177\n",
              "SibSp       0\n",
              "Parch       0\n",
              "Fare        0\n",
              "Sex         0\n",
              "Pclass      0\n",
              "dtype: int64"
            ]
          },
          "metadata": {
            "tags": []
          },
          "execution_count": 16
        }
      ]
    },
    {
      "cell_type": "code",
      "metadata": {
        "id": "aXuy1TiJvxTy",
        "colab": {
          "base_uri": "https://localhost:8080/"
        },
        "outputId": "99240f37-7d88-459d-f61b-fe9be4ceaf81"
      },
      "source": [
        "y.isnull().sum()"
      ],
      "execution_count": null,
      "outputs": [
        {
          "output_type": "execute_result",
          "data": {
            "text/plain": [
              "0"
            ]
          },
          "metadata": {
            "tags": []
          },
          "execution_count": 17
        }
      ]
    },
    {
      "cell_type": "code",
      "metadata": {
        "id": "z7bk_BqyxCUy",
        "colab": {
          "base_uri": "https://localhost:8080/"
        },
        "outputId": "e14e61a0-920a-482f-ff99-85ef238d4547"
      },
      "source": [
        "mean_age=X['Age'].mean()\n",
        "mean_age=np.round(mean_age,2)\n",
        "mean_age"
      ],
      "execution_count": null,
      "outputs": [
        {
          "output_type": "execute_result",
          "data": {
            "text/plain": [
              "29.7"
            ]
          },
          "metadata": {
            "tags": []
          },
          "execution_count": 18
        }
      ]
    },
    {
      "cell_type": "code",
      "metadata": {
        "id": "wngLSVCqwC1F",
        "colab": {
          "base_uri": "https://localhost:8080/",
          "height": 723
        },
        "outputId": "3031b66a-f7d8-4105-88cd-1c7595409f15"
      },
      "source": [
        "X['Age'].fillna(mean_age,inplace=True)\n",
        "X.head(20)"
      ],
      "execution_count": null,
      "outputs": [
        {
          "output_type": "stream",
          "text": [
            "/usr/local/lib/python3.7/dist-packages/pandas/core/series.py:4536: SettingWithCopyWarning: \n",
            "A value is trying to be set on a copy of a slice from a DataFrame\n",
            "\n",
            "See the caveats in the documentation: https://pandas.pydata.org/pandas-docs/stable/user_guide/indexing.html#returning-a-view-versus-a-copy\n",
            "  downcast=downcast,\n"
          ],
          "name": "stderr"
        },
        {
          "output_type": "execute_result",
          "data": {
            "text/html": [
              "<div>\n",
              "<style scoped>\n",
              "    .dataframe tbody tr th:only-of-type {\n",
              "        vertical-align: middle;\n",
              "    }\n",
              "\n",
              "    .dataframe tbody tr th {\n",
              "        vertical-align: top;\n",
              "    }\n",
              "\n",
              "    .dataframe thead th {\n",
              "        text-align: right;\n",
              "    }\n",
              "</style>\n",
              "<table border=\"1\" class=\"dataframe\">\n",
              "  <thead>\n",
              "    <tr style=\"text-align: right;\">\n",
              "      <th></th>\n",
              "      <th>Age</th>\n",
              "      <th>SibSp</th>\n",
              "      <th>Parch</th>\n",
              "      <th>Fare</th>\n",
              "      <th>Sex</th>\n",
              "      <th>Pclass</th>\n",
              "    </tr>\n",
              "  </thead>\n",
              "  <tbody>\n",
              "    <tr>\n",
              "      <th>0</th>\n",
              "      <td>22.0</td>\n",
              "      <td>1</td>\n",
              "      <td>0</td>\n",
              "      <td>7.2500</td>\n",
              "      <td>male</td>\n",
              "      <td>3</td>\n",
              "    </tr>\n",
              "    <tr>\n",
              "      <th>1</th>\n",
              "      <td>38.0</td>\n",
              "      <td>1</td>\n",
              "      <td>0</td>\n",
              "      <td>71.2833</td>\n",
              "      <td>female</td>\n",
              "      <td>1</td>\n",
              "    </tr>\n",
              "    <tr>\n",
              "      <th>2</th>\n",
              "      <td>26.0</td>\n",
              "      <td>0</td>\n",
              "      <td>0</td>\n",
              "      <td>7.9250</td>\n",
              "      <td>female</td>\n",
              "      <td>3</td>\n",
              "    </tr>\n",
              "    <tr>\n",
              "      <th>3</th>\n",
              "      <td>35.0</td>\n",
              "      <td>1</td>\n",
              "      <td>0</td>\n",
              "      <td>53.1000</td>\n",
              "      <td>female</td>\n",
              "      <td>1</td>\n",
              "    </tr>\n",
              "    <tr>\n",
              "      <th>4</th>\n",
              "      <td>35.0</td>\n",
              "      <td>0</td>\n",
              "      <td>0</td>\n",
              "      <td>8.0500</td>\n",
              "      <td>male</td>\n",
              "      <td>3</td>\n",
              "    </tr>\n",
              "    <tr>\n",
              "      <th>5</th>\n",
              "      <td>29.7</td>\n",
              "      <td>0</td>\n",
              "      <td>0</td>\n",
              "      <td>8.4583</td>\n",
              "      <td>male</td>\n",
              "      <td>3</td>\n",
              "    </tr>\n",
              "    <tr>\n",
              "      <th>6</th>\n",
              "      <td>54.0</td>\n",
              "      <td>0</td>\n",
              "      <td>0</td>\n",
              "      <td>51.8625</td>\n",
              "      <td>male</td>\n",
              "      <td>1</td>\n",
              "    </tr>\n",
              "    <tr>\n",
              "      <th>7</th>\n",
              "      <td>2.0</td>\n",
              "      <td>3</td>\n",
              "      <td>1</td>\n",
              "      <td>21.0750</td>\n",
              "      <td>male</td>\n",
              "      <td>3</td>\n",
              "    </tr>\n",
              "    <tr>\n",
              "      <th>8</th>\n",
              "      <td>27.0</td>\n",
              "      <td>0</td>\n",
              "      <td>2</td>\n",
              "      <td>11.1333</td>\n",
              "      <td>female</td>\n",
              "      <td>3</td>\n",
              "    </tr>\n",
              "    <tr>\n",
              "      <th>9</th>\n",
              "      <td>14.0</td>\n",
              "      <td>1</td>\n",
              "      <td>0</td>\n",
              "      <td>30.0708</td>\n",
              "      <td>female</td>\n",
              "      <td>2</td>\n",
              "    </tr>\n",
              "    <tr>\n",
              "      <th>10</th>\n",
              "      <td>4.0</td>\n",
              "      <td>1</td>\n",
              "      <td>1</td>\n",
              "      <td>16.7000</td>\n",
              "      <td>female</td>\n",
              "      <td>3</td>\n",
              "    </tr>\n",
              "    <tr>\n",
              "      <th>11</th>\n",
              "      <td>58.0</td>\n",
              "      <td>0</td>\n",
              "      <td>0</td>\n",
              "      <td>26.5500</td>\n",
              "      <td>female</td>\n",
              "      <td>1</td>\n",
              "    </tr>\n",
              "    <tr>\n",
              "      <th>12</th>\n",
              "      <td>20.0</td>\n",
              "      <td>0</td>\n",
              "      <td>0</td>\n",
              "      <td>8.0500</td>\n",
              "      <td>male</td>\n",
              "      <td>3</td>\n",
              "    </tr>\n",
              "    <tr>\n",
              "      <th>13</th>\n",
              "      <td>39.0</td>\n",
              "      <td>1</td>\n",
              "      <td>5</td>\n",
              "      <td>31.2750</td>\n",
              "      <td>male</td>\n",
              "      <td>3</td>\n",
              "    </tr>\n",
              "    <tr>\n",
              "      <th>14</th>\n",
              "      <td>14.0</td>\n",
              "      <td>0</td>\n",
              "      <td>0</td>\n",
              "      <td>7.8542</td>\n",
              "      <td>female</td>\n",
              "      <td>3</td>\n",
              "    </tr>\n",
              "    <tr>\n",
              "      <th>15</th>\n",
              "      <td>55.0</td>\n",
              "      <td>0</td>\n",
              "      <td>0</td>\n",
              "      <td>16.0000</td>\n",
              "      <td>female</td>\n",
              "      <td>2</td>\n",
              "    </tr>\n",
              "    <tr>\n",
              "      <th>16</th>\n",
              "      <td>2.0</td>\n",
              "      <td>4</td>\n",
              "      <td>1</td>\n",
              "      <td>29.1250</td>\n",
              "      <td>male</td>\n",
              "      <td>3</td>\n",
              "    </tr>\n",
              "    <tr>\n",
              "      <th>17</th>\n",
              "      <td>29.7</td>\n",
              "      <td>0</td>\n",
              "      <td>0</td>\n",
              "      <td>13.0000</td>\n",
              "      <td>male</td>\n",
              "      <td>2</td>\n",
              "    </tr>\n",
              "    <tr>\n",
              "      <th>18</th>\n",
              "      <td>31.0</td>\n",
              "      <td>1</td>\n",
              "      <td>0</td>\n",
              "      <td>18.0000</td>\n",
              "      <td>female</td>\n",
              "      <td>3</td>\n",
              "    </tr>\n",
              "    <tr>\n",
              "      <th>19</th>\n",
              "      <td>29.7</td>\n",
              "      <td>0</td>\n",
              "      <td>0</td>\n",
              "      <td>7.2250</td>\n",
              "      <td>female</td>\n",
              "      <td>3</td>\n",
              "    </tr>\n",
              "  </tbody>\n",
              "</table>\n",
              "</div>"
            ],
            "text/plain": [
              "     Age  SibSp  Parch     Fare     Sex  Pclass\n",
              "0   22.0      1      0   7.2500    male       3\n",
              "1   38.0      1      0  71.2833  female       1\n",
              "2   26.0      0      0   7.9250  female       3\n",
              "3   35.0      1      0  53.1000  female       1\n",
              "4   35.0      0      0   8.0500    male       3\n",
              "5   29.7      0      0   8.4583    male       3\n",
              "6   54.0      0      0  51.8625    male       1\n",
              "7    2.0      3      1  21.0750    male       3\n",
              "8   27.0      0      2  11.1333  female       3\n",
              "9   14.0      1      0  30.0708  female       2\n",
              "10   4.0      1      1  16.7000  female       3\n",
              "11  58.0      0      0  26.5500  female       1\n",
              "12  20.0      0      0   8.0500    male       3\n",
              "13  39.0      1      5  31.2750    male       3\n",
              "14  14.0      0      0   7.8542  female       3\n",
              "15  55.0      0      0  16.0000  female       2\n",
              "16   2.0      4      1  29.1250    male       3\n",
              "17  29.7      0      0  13.0000    male       2\n",
              "18  31.0      1      0  18.0000  female       3\n",
              "19  29.7      0      0   7.2250  female       3"
            ]
          },
          "metadata": {
            "tags": []
          },
          "execution_count": 19
        }
      ]
    },
    {
      "cell_type": "code",
      "metadata": {
        "id": "-c2qrWkrxMYz",
        "colab": {
          "base_uri": "https://localhost:8080/"
        },
        "outputId": "631a3bad-bc69-43ca-83a8-f42a643d4197"
      },
      "source": [
        "X.isnull().sum()"
      ],
      "execution_count": null,
      "outputs": [
        {
          "output_type": "execute_result",
          "data": {
            "text/plain": [
              "Age       0\n",
              "SibSp     0\n",
              "Parch     0\n",
              "Fare      0\n",
              "Sex       0\n",
              "Pclass    0\n",
              "dtype: int64"
            ]
          },
          "metadata": {
            "tags": []
          },
          "execution_count": 20
        }
      ]
    },
    {
      "cell_type": "code",
      "metadata": {
        "id": "FdwnRAkHz6_6",
        "colab": {
          "base_uri": "https://localhost:8080/"
        },
        "outputId": "7057104e-b26b-4a58-ce41-31d5644c6e50"
      },
      "source": [
        "# Encoding Categorical data:\n",
        "# Encoding the Independent Variable\n",
        "from sklearn.preprocessing import LabelEncoder\n",
        "labelencoder_X = LabelEncoder()\n",
        "X[\"Sex\"] = labelencoder_X.fit_transform(X[\"Sex\"])"
      ],
      "execution_count": null,
      "outputs": [
        {
          "output_type": "stream",
          "text": [
            "/usr/local/lib/python3.7/dist-packages/ipykernel_launcher.py:5: SettingWithCopyWarning: \n",
            "A value is trying to be set on a copy of a slice from a DataFrame.\n",
            "Try using .loc[row_indexer,col_indexer] = value instead\n",
            "\n",
            "See the caveats in the documentation: https://pandas.pydata.org/pandas-docs/stable/user_guide/indexing.html#returning-a-view-versus-a-copy\n",
            "  \"\"\"\n"
          ],
          "name": "stderr"
        }
      ]
    },
    {
      "cell_type": "code",
      "metadata": {
        "id": "KuMTXIqs0G8B",
        "colab": {
          "base_uri": "https://localhost:8080/"
        },
        "outputId": "0a300417-abe3-4078-fdf9-3a39c60ac9c5"
      },
      "source": [
        "print(X)"
      ],
      "execution_count": null,
      "outputs": [
        {
          "output_type": "stream",
          "text": [
            "      Age  SibSp  Parch     Fare  Sex  Pclass\n",
            "0    22.0      1      0   7.2500    1       3\n",
            "1    38.0      1      0  71.2833    0       1\n",
            "2    26.0      0      0   7.9250    0       3\n",
            "3    35.0      1      0  53.1000    0       1\n",
            "4    35.0      0      0   8.0500    1       3\n",
            "..    ...    ...    ...      ...  ...     ...\n",
            "886  27.0      0      0  13.0000    1       2\n",
            "887  19.0      0      0  30.0000    0       1\n",
            "888  29.7      1      2  23.4500    0       3\n",
            "889  26.0      0      0  30.0000    1       1\n",
            "890  32.0      0      0   7.7500    1       3\n",
            "\n",
            "[891 rows x 6 columns]\n"
          ],
          "name": "stdout"
        }
      ]
    },
    {
      "cell_type": "code",
      "metadata": {
        "id": "UzrhbKTfbgVL"
      },
      "source": [
        "# Splitting the dataset into the Training set and Test set\n",
        "from sklearn.model_selection import train_test_split\n",
        "X_train, X_test, y_train, y_test = train_test_split(X, y, test_size = 0.25, random_state = 0)\n"
      ],
      "execution_count": null,
      "outputs": []
    },
    {
      "cell_type": "code",
      "metadata": {
        "id": "7P72zs0Xbnqr",
        "colab": {
          "base_uri": "https://localhost:8080/"
        },
        "outputId": "ec0b3cf8-9e28-4b39-d889-09aa9237e94d"
      },
      "source": [
        "print(X_train)"
      ],
      "execution_count": null,
      "outputs": [
        {
          "output_type": "stream",
          "text": [
            "      Age  SibSp  Parch     Fare  Sex  Pclass\n",
            "105  28.0      0      0   7.8958    1       3\n",
            "68   17.0      4      2   7.9250    0       3\n",
            "253  30.0      1      0  16.1000    1       3\n",
            "320  22.0      0      0   7.2500    1       3\n",
            "706  45.0      0      0  13.5000    0       2\n",
            "..    ...    ...    ...      ...  ...     ...\n",
            "835  39.0      1      1  83.1583    0       1\n",
            "192  19.0      1      0   7.8542    0       3\n",
            "629  29.7      0      0   7.7333    1       3\n",
            "559  36.0      1      0  17.4000    0       3\n",
            "684  60.0      1      1  39.0000    1       2\n",
            "\n",
            "[668 rows x 6 columns]\n"
          ],
          "name": "stdout"
        }
      ]
    },
    {
      "cell_type": "code",
      "metadata": {
        "id": "MYY7nwKAbwIn",
        "colab": {
          "base_uri": "https://localhost:8080/"
        },
        "outputId": "3c9ed3ec-3cab-411e-d5ca-248b0277770d"
      },
      "source": [
        "print(X_test)"
      ],
      "execution_count": null,
      "outputs": [
        {
          "output_type": "stream",
          "text": [
            "      Age  SibSp  Parch      Fare  Sex  Pclass\n",
            "495  29.7      0      0   14.4583    1       3\n",
            "648  29.7      0      0    7.5500    1       3\n",
            "278   7.0      4      1   29.1250    1       3\n",
            "31   29.7      1      0  146.5208    0       1\n",
            "255  29.0      0      2   15.2458    0       3\n",
            "..    ...    ...    ...       ...  ...     ...\n",
            "167  45.0      1      4   27.9000    0       3\n",
            "306  29.7      0      0  110.8833    0       1\n",
            "379  19.0      0      0    7.7750    1       3\n",
            "742  21.0      2      2  262.3750    0       1\n",
            "10    4.0      1      1   16.7000    0       3\n",
            "\n",
            "[223 rows x 6 columns]\n"
          ],
          "name": "stdout"
        }
      ]
    },
    {
      "cell_type": "code",
      "metadata": {
        "id": "4SE8ozd4b1Fg",
        "colab": {
          "base_uri": "https://localhost:8080/"
        },
        "outputId": "b215f3ce-7429-4af9-f642-c41e694f9513"
      },
      "source": [
        "print(y_test)"
      ],
      "execution_count": null,
      "outputs": [
        {
          "output_type": "stream",
          "text": [
            "495    0\n",
            "648    0\n",
            "278    0\n",
            "31     1\n",
            "255    1\n",
            "      ..\n",
            "167    0\n",
            "306    1\n",
            "379    0\n",
            "742    1\n",
            "10     1\n",
            "Name: Survived, Length: 223, dtype: int64\n"
          ],
          "name": "stdout"
        }
      ]
    },
    {
      "cell_type": "code",
      "metadata": {
        "id": "zSCby589b4kz",
        "colab": {
          "base_uri": "https://localhost:8080/"
        },
        "outputId": "4e569821-dc65-4880-c99b-aa4c2ee107c7"
      },
      "source": [
        "print(y_train)"
      ],
      "execution_count": null,
      "outputs": [
        {
          "output_type": "stream",
          "text": [
            "105    0\n",
            "68     1\n",
            "253    0\n",
            "320    0\n",
            "706    1\n",
            "      ..\n",
            "835    1\n",
            "192    1\n",
            "629    0\n",
            "559    1\n",
            "684    0\n",
            "Name: Survived, Length: 668, dtype: int64\n"
          ],
          "name": "stdout"
        }
      ]
    },
    {
      "cell_type": "code",
      "metadata": {
        "id": "Yhovt-qlcsyQ",
        "colab": {
          "base_uri": "https://localhost:8080/"
        },
        "outputId": "afca44f0-96f4-467c-898d-4c310addef4f"
      },
      "source": [
        "# Feature Scaling\n",
        "from sklearn.preprocessing import StandardScaler\n",
        "sc = StandardScaler()\n",
        "X_train = sc.fit_transform(X_train)\n",
        "X_test = sc.transform(X_test)\n",
        "print(X_train)"
      ],
      "execution_count": null,
      "outputs": [
        {
          "output_type": "stream",
          "text": [
            "[[-0.14360052 -0.46037161 -0.47720996 -0.48380773  0.72705166  0.83012938]\n",
            " [-0.99276889  2.98532288  1.95619654 -0.48323058 -1.37541808  0.83012938]\n",
            " [ 0.01079373  0.40105202 -0.47720996 -0.32165051  0.72705166  0.83012938]\n",
            " ...\n",
            " [-0.01236541 -0.46037161 -0.47720996 -0.48701956  0.72705166  0.83012938]\n",
            " [ 0.47397648  0.40105202 -0.47720996 -0.29595582 -1.37541808  0.83012938]\n",
            " [ 2.32670746  0.40105202  0.73949329  0.13097136  0.72705166 -0.36497068]]\n"
          ],
          "name": "stdout"
        }
      ]
    },
    {
      "cell_type": "code",
      "metadata": {
        "id": "ic851ceFc-bY",
        "colab": {
          "base_uri": "https://localhost:8080/"
        },
        "outputId": "6564c432-f126-4dd9-9c06-8397ec8b903b"
      },
      "source": [
        "print(X_train)"
      ],
      "execution_count": null,
      "outputs": [
        {
          "output_type": "stream",
          "text": [
            "[[-0.14360052 -0.46037161 -0.47720996 -0.48380773  0.72705166  0.83012938]\n",
            " [-0.99276889  2.98532288  1.95619654 -0.48323058 -1.37541808  0.83012938]\n",
            " [ 0.01079373  0.40105202 -0.47720996 -0.32165051  0.72705166  0.83012938]\n",
            " ...\n",
            " [-0.01236541 -0.46037161 -0.47720996 -0.48701956  0.72705166  0.83012938]\n",
            " [ 0.47397648  0.40105202 -0.47720996 -0.29595582 -1.37541808  0.83012938]\n",
            " [ 2.32670746  0.40105202  0.73949329  0.13097136  0.72705166 -0.36497068]]\n"
          ],
          "name": "stdout"
        }
      ]
    },
    {
      "cell_type": "code",
      "metadata": {
        "id": "KpGHbeiY89_a",
        "colab": {
          "base_uri": "https://localhost:8080/"
        },
        "outputId": "89458386-6da8-4e4e-ba0b-85f8d45baeb2"
      },
      "source": [
        "print(X_test)"
      ],
      "execution_count": null,
      "outputs": [
        {
          "output_type": "stream",
          "text": [
            "[[-0.01236541 -0.46037161 -0.47720996 -0.35409895  0.72705166  0.83012938]\n",
            " [-0.01236541 -0.46037161 -0.47720996 -0.49064251  0.72705166  0.83012938]\n",
            " [-1.76474013  2.98532288  0.73949329 -0.06420947  0.72705166  0.83012938]\n",
            " ...\n",
            " [-0.83837464 -0.46037161 -0.47720996 -0.48619536  0.72705166  0.83012938]\n",
            " [-0.68398039  1.26247564  1.95619654  4.54601107 -1.37541808 -1.56007074]\n",
            " [-1.9963315   0.40105202  0.73949329 -0.30979142 -1.37541808  0.83012938]]\n"
          ],
          "name": "stdout"
        }
      ]
    },
    {
      "cell_type": "code",
      "metadata": {
        "id": "aF6idxZb9EtE",
        "colab": {
          "base_uri": "https://localhost:8080/"
        },
        "outputId": "d4ed1c79-3a45-447f-da0f-890d6d9af780"
      },
      "source": [
        "# Fitting K-NN to the Training set\n",
        "from sklearn.neighbors import KNeighborsClassifier\n",
        "from sklearn.neighbors import KNeighborsClassifier\n",
        "classifier =  KNeighborsClassifier(n_neighbors = 5, metric = 'minkowski', p = 2)\n",
        "classifier.fit(X_train, y_train)\n"
      ],
      "execution_count": null,
      "outputs": [
        {
          "output_type": "execute_result",
          "data": {
            "text/plain": [
              "KNeighborsClassifier(algorithm='auto', leaf_size=30, metric='minkowski',\n",
              "                     metric_params=None, n_jobs=None, n_neighbors=5, p=2,\n",
              "                     weights='uniform')"
            ]
          },
          "metadata": {
            "tags": []
          },
          "execution_count": 32
        }
      ]
    },
    {
      "cell_type": "code",
      "metadata": {
        "id": "Ax2tc-DC9ePa"
      },
      "source": [
        "# Predicting the Test set results\n",
        "y_pred = classifier.predict(X_test)"
      ],
      "execution_count": null,
      "outputs": []
    },
    {
      "cell_type": "code",
      "metadata": {
        "id": "fapkzgOR9oFV",
        "colab": {
          "base_uri": "https://localhost:8080/"
        },
        "outputId": "884a16d0-bcae-4743-c7bb-8731770b5e9c"
      },
      "source": [
        "# Making the Confusion Matrix\n",
        "from sklearn.metrics import confusion_matrix\n",
        "cm = confusion_matrix(y_test, y_pred)\n",
        "print('Confusion matrix: ')\n",
        "print(cm)"
      ],
      "execution_count": null,
      "outputs": [
        {
          "output_type": "stream",
          "text": [
            "Confusion matrix: \n",
            "[[119  20]\n",
            " [ 26  58]]\n"
          ],
          "name": "stdout"
        }
      ]
    },
    {
      "cell_type": "code",
      "metadata": {
        "id": "THlm7D1z-Jux",
        "colab": {
          "base_uri": "https://localhost:8080/"
        },
        "outputId": "efa72628-6451-448c-eaf7-f079f27ce69d"
      },
      "source": [
        "# calculate Accuracy\n",
        "from sklearn.metrics import accuracy_score\n",
        "print('Accuracy: %.2f' % (accuracy_score(y_test, y_pred)*100))"
      ],
      "execution_count": null,
      "outputs": [
        {
          "output_type": "stream",
          "text": [
            "Accuracy: 79.37\n"
          ],
          "name": "stdout"
        }
      ]
    },
    {
      "cell_type": "code",
      "metadata": {
        "id": "nquS3pa4-lOH",
        "colab": {
          "base_uri": "https://localhost:8080/"
        },
        "outputId": "789fe588-05f5-49df-8e13-66dca0745dfa"
      },
      "source": [
        "from sklearn.metrics import precision_score\n",
        "from sklearn.metrics import recall_score\n",
        "from sklearn.metrics import f1_score\n",
        "# calculate precision\n",
        "# Precision = TruePositives / (TruePositives + FalsePositives)\n",
        "precision = precision_score(y_test, y_pred, average='binary')\n",
        "print('Precision: %.3f' % (precision*100))"
      ],
      "execution_count": null,
      "outputs": [
        {
          "output_type": "stream",
          "text": [
            "Precision: 74.359\n"
          ],
          "name": "stdout"
        }
      ]
    },
    {
      "cell_type": "code",
      "metadata": {
        "id": "1EcT47xu-sNJ",
        "colab": {
          "base_uri": "https://localhost:8080/"
        },
        "outputId": "8f5de0fc-498a-4900-d00d-8d717db1f9a1"
      },
      "source": [
        "# calculate recall\n",
        "# Recall = TruePositives / (TruePositives + FalseNegatives)\n",
        "from sklearn.metrics import recall_score\n",
        "from sklearn.metrics import f1_score\n",
        "recall = recall_score(y_test, y_pred, average='binary')\n",
        "print('Recall: %.3f' % (recall*100))"
      ],
      "execution_count": null,
      "outputs": [
        {
          "output_type": "stream",
          "text": [
            "Recall: 69.048\n"
          ],
          "name": "stdout"
        }
      ]
    },
    {
      "cell_type": "code",
      "metadata": {
        "id": "82QxZrqD_At8",
        "colab": {
          "base_uri": "https://localhost:8080/"
        },
        "outputId": "d4f0c3d1-46ee-4de8-a9ae-117d36dae3f7"
      },
      "source": [
        "# F-Measure = (2 * Precision * Recall) / (Precision + Recall)\n",
        "# calculate score\n",
        "score = f1_score(y_test, y_pred, average='binary')\n",
        "print('F-Measure: %.3f' % (score*100))"
      ],
      "execution_count": null,
      "outputs": [
        {
          "output_type": "stream",
          "text": [
            "F-Measure: 71.605\n"
          ],
          "name": "stdout"
        }
      ]
    },
    {
      "cell_type": "code",
      "metadata": {
        "id": "p_lqiaGqJifQ",
        "colab": {
          "base_uri": "https://localhost:8080/"
        },
        "outputId": "bd59592e-bf3d-4635-84ba-464095cc1c96"
      },
      "source": [
        "Age= 30     \n",
        "SibSp=1\n",
        "Parch=1    \n",
        "Fare= 100   \n",
        "Sex= 1     \n",
        "Pclass=3    \n",
        "\n",
        "output=classifier.predict(sc.transform([[Age ,SibSp,Parch,Fare, Sex, Pclass]]))\n",
        "print(\"Passenger will die =\", output)\n",
        "if output==[1]:\n",
        "  print( 'Passanger will survive')\n",
        "else:\n",
        "  print('Passanger will die')\n"
      ],
      "execution_count": null,
      "outputs": [
        {
          "output_type": "stream",
          "text": [
            "Passenger will die = [0]\n",
            "Passanger will die\n"
          ],
          "name": "stdout"
        }
      ]
    },
    {
      "cell_type": "code",
      "metadata": {
        "colab": {
          "base_uri": "https://localhost:8080/"
        },
        "id": "wCCT5PJXnIfk",
        "outputId": "bd0fa5f7-e680-47db-895c-5f19f4bdce86"
      },
      "source": [
        "import pickle \n",
        "print(\"[INFO] Saving model...\")\n",
        "# Save the trained model as a pickle string. \n",
        "saved_model=pickle.dump(classifier,open('/content/drive/My Drive/Knearestneighborclassifier.pkl', 'wb')) \n",
        "# Saving model to disk\n",
        " "
      ],
      "execution_count": null,
      "outputs": [
        {
          "output_type": "stream",
          "text": [
            "[INFO] Saving model...\n"
          ],
          "name": "stdout"
        }
      ]
    },
    {
      "cell_type": "code",
      "metadata": {
        "colab": {
          "base_uri": "https://localhost:8080/"
        },
        "id": "cwqiUhAkndjf",
        "outputId": "b65c96ff-2c0b-4cc2-de25-0cf4b1739a9f"
      },
      "source": [
        "# Load the pickled model \n",
        "model = pickle.load(open('/content/drive/My Drive/Knearestneighborclassifier.pkl', 'rb'))  \n",
        "# Use the loaded pickled model to make predictions \n",
        "model.predict(X_test) "
      ],
      "execution_count": null,
      "outputs": [
        {
          "output_type": "execute_result",
          "data": {
            "text/plain": [
              "array([0, 0, 0, 1, 0, 0, 1, 1, 1, 1, 0, 1, 0, 1, 1, 1, 0, 0, 0, 1, 0, 1,\n",
              "       0, 0, 1, 1, 1, 1, 1, 0, 0, 1, 0, 0, 0, 0, 0, 0, 0, 0, 0, 0, 0, 0,\n",
              "       1, 0, 0, 1, 0, 0, 0, 0, 1, 0, 0, 0, 0, 0, 0, 0, 0, 0, 1, 0, 0, 1,\n",
              "       1, 0, 1, 1, 1, 0, 1, 0, 0, 0, 1, 1, 0, 0, 0, 0, 1, 0, 0, 1, 1, 0,\n",
              "       1, 0, 0, 0, 1, 1, 0, 0, 1, 0, 0, 0, 0, 0, 0, 0, 0, 0, 1, 0, 0, 1,\n",
              "       0, 1, 1, 1, 0, 1, 1, 1, 0, 1, 1, 0, 0, 0, 0, 0, 0, 0, 0, 0, 1, 0,\n",
              "       0, 0, 0, 0, 0, 1, 0, 0, 0, 1, 0, 1, 1, 1, 0, 1, 1, 0, 1, 0, 0, 0,\n",
              "       1, 0, 0, 0, 1, 1, 0, 0, 1, 0, 0, 0, 0, 0, 0, 0, 0, 1, 0, 0, 1, 0,\n",
              "       1, 0, 0, 0, 0, 0, 0, 0, 0, 0, 1, 0, 0, 1, 0, 1, 1, 1, 0, 0, 0, 1,\n",
              "       1, 0, 0, 1, 0, 0, 0, 0, 1, 1, 1, 0, 0, 0, 0, 1, 0, 0, 0, 1, 0, 1,\n",
              "       0, 1, 1])"
            ]
          },
          "metadata": {
            "tags": []
          },
          "execution_count": 41
        }
      ]
    },
    {
      "cell_type": "code",
      "metadata": {
        "id": "8Iw5gVQw2ebB",
        "colab": {
          "base_uri": "https://localhost:8080/"
        },
        "outputId": "ae83f493-d642-454b-f467-05672add1e7d"
      },
      "source": [
        "# save the model to disk\n",
        "import joblib\n",
        "filename = '/content/drive/My Drive/finalized_model_KNN.sav'\n",
        "joblib.dump(classifier, filename)\n",
        " \n",
        "# some time later...\n",
        " \n",
        "# load the model from disk\n",
        "loaded_model = joblib.load(filename)\n",
        "result = loaded_model.score(X_test, y_test)\n",
        "print(result)"
      ],
      "execution_count": null,
      "outputs": [
        {
          "output_type": "stream",
          "text": [
            "0.7937219730941704\n"
          ],
          "name": "stdout"
        }
      ]
    },
    {
      "cell_type": "code",
      "metadata": {
        "id": "TuD9UtlA2nd3",
        "colab": {
          "base_uri": "https://localhost:8080/"
        },
        "outputId": "6bbbd70e-4af6-4459-e886-cbd2202dfb4e"
      },
      "source": [
        "# Fitting Naive Bayes to the Training set\n",
        "from sklearn.naive_bayes import GaussianNB\n",
        "classifier = GaussianNB()\n",
        "classifier.fit(X_train, y_train)"
      ],
      "execution_count": null,
      "outputs": [
        {
          "output_type": "execute_result",
          "data": {
            "text/plain": [
              "GaussianNB(priors=None, var_smoothing=1e-09)"
            ]
          },
          "metadata": {
            "tags": []
          },
          "execution_count": 44
        }
      ]
    },
    {
      "cell_type": "code",
      "metadata": {
        "id": "fqBWX0tk3H5m"
      },
      "source": [
        "# Predicting the Test set results\n",
        "y_pred = classifier.predict(X_test)"
      ],
      "execution_count": null,
      "outputs": []
    },
    {
      "cell_type": "code",
      "metadata": {
        "id": "9pRCVGck3ah9",
        "colab": {
          "base_uri": "https://localhost:8080/"
        },
        "outputId": "89c5b11b-9bd6-41f5-d523-fc9d33fc1731"
      },
      "source": [
        "# Making the Confusion Matrix\n",
        "from sklearn.metrics import confusion_matrix\n",
        "from sklearn.metrics import confusion_matrix\n",
        "cm = confusion_matrix(y_test, y_pred)\n",
        "print('Confusion matrix: ')\n",
        "print(cm)"
      ],
      "execution_count": null,
      "outputs": [
        {
          "output_type": "stream",
          "text": [
            "Confusion matrix: \n",
            "[[112  27]\n",
            " [ 22  62]]\n"
          ],
          "name": "stdout"
        }
      ]
    },
    {
      "cell_type": "code",
      "metadata": {
        "id": "TVZvLgrv3jrM",
        "colab": {
          "base_uri": "https://localhost:8080/"
        },
        "outputId": "e2121601-aa21-48ee-93f5-2b36b320a2fd"
      },
      "source": [
        "# calculate Accuracy\n",
        "from sklearn.metrics import accuracy_score\n",
        "print('Accuracy Naive Bayes: %.2f' % (accuracy_score(y_test, y_pred)*100))\n",
        "from sklearn.metrics import precision_score\n",
        "from sklearn.metrics import recall_score\n",
        "from sklearn.metrics import f1_score\n",
        "# calculate precision\n",
        "# Precision = TruePositives / (TruePositives + FalsePositives)\n",
        "precision = precision_score(y_test, y_pred, average='binary')\n",
        "print('Precision: %.3f' % (precision*100))\n",
        "\n",
        "# calculate recall\n",
        "# Recall = TruePositives / (TruePositives + FalseNegatives)\n",
        "recall = recall_score(y_test, y_pred, average='binary')\n",
        "print('Recall: %.3f' % (recall*100))\n",
        "\n",
        "# F-Measure = (2 * Precision * Recall) / (Precision + Recall)\n",
        "# calculate score\n",
        "score = f1_score(y_test, y_pred, average='binary')\n",
        "print('F-Measure: %.3f' % (score*100))\n"
      ],
      "execution_count": null,
      "outputs": [
        {
          "output_type": "stream",
          "text": [
            "Accuracy Naive Bayes: 78.03\n",
            "Precision: 69.663\n",
            "Recall: 73.810\n",
            "F-Measure: 71.676\n"
          ],
          "name": "stdout"
        }
      ]
    },
    {
      "cell_type": "code",
      "metadata": {
        "id": "mzwNQjJf4TVz",
        "colab": {
          "base_uri": "https://localhost:8080/"
        },
        "outputId": "bdd7a436-6508-46ee-9c54-ed8b90685d01"
      },
      "source": [
        "Age= 30     \n",
        "SibSp=1\n",
        "Parch=1    \n",
        "Fare= 100   \n",
        "Sex= 1     \n",
        "Pclass=3    \n",
        "\n",
        "output=classifier.predict(sc.transform([[Age ,SibSp,Parch,Fare, Sex, Pclass]]))\n",
        "print(\"Passenger will die =\", output)\n",
        "if output==[1]:\n",
        "  print( 'Passanger will survive')\n",
        "else:\n",
        "  print('Passanger will die')"
      ],
      "execution_count": null,
      "outputs": [
        {
          "output_type": "stream",
          "text": [
            "Passenger will die = [0]\n",
            "Passanger will die\n"
          ],
          "name": "stdout"
        }
      ]
    },
    {
      "cell_type": "code",
      "metadata": {
        "colab": {
          "base_uri": "https://localhost:8080/"
        },
        "id": "8vN1V1cXoDzE",
        "outputId": "77558d84-6a1b-4f49-f846-3526a87e2195"
      },
      "source": [
        "import pickle \n",
        "print(\"[INFO] Saving model...\")\n",
        "# Save the trained model as a pickle string. \n",
        "saved_model=pickle.dump(classifier,open('/content/drive/My Drive/naivebayesclassifier.pkl', 'wb')) \n",
        "# Saving model to disk"
      ],
      "execution_count": null,
      "outputs": [
        {
          "output_type": "stream",
          "text": [
            "[INFO] Saving model...\n"
          ],
          "name": "stdout"
        }
      ]
    },
    {
      "cell_type": "code",
      "metadata": {
        "colab": {
          "base_uri": "https://localhost:8080/"
        },
        "id": "fMLkPKTloIKG",
        "outputId": "0e90b7d7-941d-4199-bdd2-c40e0515cde1"
      },
      "source": [
        "# Load the pickled model \n",
        "model = pickle.load(open('/content/drive/My Drive/naivebayesclassifier.pkl', 'rb'))  \n",
        "# Use the loaded pickled model to make predictions \n",
        "model.predict(X_test) "
      ],
      "execution_count": null,
      "outputs": [
        {
          "output_type": "execute_result",
          "data": {
            "text/plain": [
              "array([0, 0, 0, 1, 1, 0, 1, 1, 1, 1, 0, 1, 0, 1, 1, 1, 0, 0, 0, 0, 0, 1,\n",
              "       0, 0, 1, 1, 0, 1, 1, 0, 0, 1, 0, 0, 0, 0, 0, 0, 0, 0, 1, 0, 0, 0,\n",
              "       1, 0, 0, 1, 0, 1, 0, 1, 1, 0, 0, 0, 0, 0, 0, 0, 0, 1, 1, 0, 1, 0,\n",
              "       1, 0, 1, 1, 1, 0, 1, 0, 0, 0, 1, 0, 0, 0, 0, 0, 1, 0, 0, 1, 1, 1,\n",
              "       1, 1, 0, 0, 0, 1, 0, 0, 1, 0, 0, 1, 0, 0, 0, 0, 1, 1, 1, 1, 0, 1,\n",
              "       0, 1, 0, 1, 1, 1, 1, 1, 0, 1, 0, 0, 0, 0, 0, 0, 0, 0, 0, 0, 1, 0,\n",
              "       0, 1, 0, 0, 0, 1, 0, 0, 0, 1, 0, 1, 1, 1, 0, 1, 1, 0, 1, 1, 1, 0,\n",
              "       1, 0, 1, 0, 1, 1, 0, 0, 1, 0, 0, 0, 0, 0, 0, 0, 0, 1, 0, 0, 1, 0,\n",
              "       1, 0, 0, 1, 0, 0, 0, 0, 0, 0, 1, 0, 0, 1, 1, 0, 1, 1, 0, 1, 0, 1,\n",
              "       0, 0, 0, 1, 0, 1, 0, 0, 1, 0, 1, 0, 0, 0, 0, 1, 0, 0, 0, 0, 1, 1,\n",
              "       0, 1, 1])"
            ]
          },
          "metadata": {
            "tags": []
          },
          "execution_count": 51
        }
      ]
    },
    {
      "cell_type": "code",
      "metadata": {
        "id": "rDwipkDW4flr",
        "colab": {
          "base_uri": "https://localhost:8080/"
        },
        "outputId": "5eeb6a64-6f65-4bb8-d9a7-f3e2a1a813d7"
      },
      "source": [
        "# save the model to disk\n",
        "import joblib\n",
        "filename = '/content/drive/My Drive/finalized_model_NaiveBayes.sav'\n",
        "joblib.dump(classifier, filename)\n",
        " \n",
        "# some time later...\n",
        " \n",
        "# load the model from disk\n",
        "loaded_model = joblib.load(filename)\n",
        "result = loaded_model.score(X_test, y_test)\n",
        "print(\"Naive Bayes\", result)"
      ],
      "execution_count": null,
      "outputs": [
        {
          "output_type": "stream",
          "text": [
            "Naive Bayes 0.7802690582959642\n"
          ],
          "name": "stdout"
        }
      ]
    },
    {
      "cell_type": "code",
      "metadata": {
        "colab": {
          "base_uri": "https://localhost:8080/"
        },
        "id": "A_jeNHmFJspv",
        "outputId": "f588133c-d67c-43e5-982e-a8978d9b2ad6"
      },
      "source": [
        "!pip install streamlit\n"
      ],
      "execution_count": null,
      "outputs": [
        {
          "output_type": "stream",
          "text": [
            "Requirement already satisfied: streamlit in /usr/local/lib/python3.7/dist-packages (0.80.0)\n",
            "Requirement already satisfied: click>=7.0 in /usr/local/lib/python3.7/dist-packages (from streamlit) (7.1.2)\n",
            "Requirement already satisfied: python-dateutil in /usr/local/lib/python3.7/dist-packages (from streamlit) (2.8.1)\n",
            "Requirement already satisfied: numpy in /usr/local/lib/python3.7/dist-packages (from streamlit) (1.19.5)\n",
            "Requirement already satisfied: toml in /usr/local/lib/python3.7/dist-packages (from streamlit) (0.10.2)\n",
            "Requirement already satisfied: pillow>=6.2.0 in /usr/local/lib/python3.7/dist-packages (from streamlit) (7.1.2)\n",
            "Requirement already satisfied: validators in /usr/local/lib/python3.7/dist-packages (from streamlit) (0.18.2)\n",
            "Requirement already satisfied: tzlocal in /usr/local/lib/python3.7/dist-packages (from streamlit) (1.5.1)\n",
            "Requirement already satisfied: requests in /usr/local/lib/python3.7/dist-packages (from streamlit) (2.23.0)\n",
            "Requirement already satisfied: base58 in /usr/local/lib/python3.7/dist-packages (from streamlit) (2.1.0)\n",
            "Requirement already satisfied: pydeck>=0.1.dev5 in /usr/local/lib/python3.7/dist-packages (from streamlit) (0.6.2)\n",
            "Requirement already satisfied: altair>=3.2.0 in /usr/local/lib/python3.7/dist-packages (from streamlit) (4.1.0)\n",
            "Requirement already satisfied: blinker in /usr/local/lib/python3.7/dist-packages (from streamlit) (1.4)\n",
            "Requirement already satisfied: watchdog; platform_system != \"Darwin\" in /usr/local/lib/python3.7/dist-packages (from streamlit) (2.0.2)\n",
            "Requirement already satisfied: pandas>=0.21.0 in /usr/local/lib/python3.7/dist-packages (from streamlit) (1.1.5)\n",
            "Requirement already satisfied: astor in /usr/local/lib/python3.7/dist-packages (from streamlit) (0.8.1)\n",
            "Requirement already satisfied: packaging in /usr/local/lib/python3.7/dist-packages (from streamlit) (20.9)\n",
            "Requirement already satisfied: gitpython in /usr/local/lib/python3.7/dist-packages (from streamlit) (3.1.14)\n",
            "Requirement already satisfied: cachetools>=4.0 in /usr/local/lib/python3.7/dist-packages (from streamlit) (4.2.1)\n",
            "Requirement already satisfied: protobuf!=3.11,>=3.6.0 in /usr/local/lib/python3.7/dist-packages (from streamlit) (3.12.4)\n",
            "Requirement already satisfied: pyarrow; python_version < \"3.9\" in /usr/local/lib/python3.7/dist-packages (from streamlit) (3.0.0)\n",
            "Requirement already satisfied: tornado>=5.0 in /usr/local/lib/python3.7/dist-packages (from streamlit) (5.1.1)\n",
            "Requirement already satisfied: six>=1.5 in /usr/local/lib/python3.7/dist-packages (from python-dateutil->streamlit) (1.15.0)\n",
            "Requirement already satisfied: decorator>=3.4.0 in /usr/local/lib/python3.7/dist-packages (from validators->streamlit) (4.4.2)\n",
            "Requirement already satisfied: pytz in /usr/local/lib/python3.7/dist-packages (from tzlocal->streamlit) (2018.9)\n",
            "Requirement already satisfied: certifi>=2017.4.17 in /usr/local/lib/python3.7/dist-packages (from requests->streamlit) (2020.12.5)\n",
            "Requirement already satisfied: urllib3!=1.25.0,!=1.25.1,<1.26,>=1.21.1 in /usr/local/lib/python3.7/dist-packages (from requests->streamlit) (1.24.3)\n",
            "Requirement already satisfied: idna<3,>=2.5 in /usr/local/lib/python3.7/dist-packages (from requests->streamlit) (2.10)\n",
            "Requirement already satisfied: chardet<4,>=3.0.2 in /usr/local/lib/python3.7/dist-packages (from requests->streamlit) (3.0.4)\n",
            "Requirement already satisfied: jinja2>=2.10.1 in /usr/local/lib/python3.7/dist-packages (from pydeck>=0.1.dev5->streamlit) (2.11.3)\n",
            "Requirement already satisfied: ipywidgets>=7.0.0 in /usr/local/lib/python3.7/dist-packages (from pydeck>=0.1.dev5->streamlit) (7.6.3)\n",
            "Requirement already satisfied: ipykernel>=5.1.2; python_version >= \"3.4\" in /usr/local/lib/python3.7/dist-packages (from pydeck>=0.1.dev5->streamlit) (5.5.3)\n",
            "Requirement already satisfied: traitlets>=4.3.2 in /usr/local/lib/python3.7/dist-packages (from pydeck>=0.1.dev5->streamlit) (5.0.5)\n",
            "Requirement already satisfied: entrypoints in /usr/local/lib/python3.7/dist-packages (from altair>=3.2.0->streamlit) (0.3)\n",
            "Requirement already satisfied: toolz in /usr/local/lib/python3.7/dist-packages (from altair>=3.2.0->streamlit) (0.11.1)\n",
            "Requirement already satisfied: jsonschema in /usr/local/lib/python3.7/dist-packages (from altair>=3.2.0->streamlit) (2.6.0)\n",
            "Requirement already satisfied: pyparsing>=2.0.2 in /usr/local/lib/python3.7/dist-packages (from packaging->streamlit) (2.4.7)\n",
            "Requirement already satisfied: gitdb<5,>=4.0.1 in /usr/local/lib/python3.7/dist-packages (from gitpython->streamlit) (4.0.7)\n",
            "Requirement already satisfied: setuptools in /usr/local/lib/python3.7/dist-packages (from protobuf!=3.11,>=3.6.0->streamlit) (54.2.0)\n",
            "Requirement already satisfied: MarkupSafe>=0.23 in /usr/local/lib/python3.7/dist-packages (from jinja2>=2.10.1->pydeck>=0.1.dev5->streamlit) (1.1.1)\n",
            "Requirement already satisfied: widgetsnbextension~=3.5.0 in /usr/local/lib/python3.7/dist-packages (from ipywidgets>=7.0.0->pydeck>=0.1.dev5->streamlit) (3.5.1)\n",
            "Requirement already satisfied: ipython>=4.0.0; python_version >= \"3.3\" in /usr/local/lib/python3.7/dist-packages (from ipywidgets>=7.0.0->pydeck>=0.1.dev5->streamlit) (5.5.0)\n",
            "Requirement already satisfied: jupyterlab-widgets>=1.0.0; python_version >= \"3.6\" in /usr/local/lib/python3.7/dist-packages (from ipywidgets>=7.0.0->pydeck>=0.1.dev5->streamlit) (1.0.0)\n",
            "Requirement already satisfied: nbformat>=4.2.0 in /usr/local/lib/python3.7/dist-packages (from ipywidgets>=7.0.0->pydeck>=0.1.dev5->streamlit) (5.1.3)\n",
            "Requirement already satisfied: jupyter-client in /usr/local/lib/python3.7/dist-packages (from ipykernel>=5.1.2; python_version >= \"3.4\"->pydeck>=0.1.dev5->streamlit) (5.3.5)\n",
            "Requirement already satisfied: ipython-genutils in /usr/local/lib/python3.7/dist-packages (from traitlets>=4.3.2->pydeck>=0.1.dev5->streamlit) (0.2.0)\n",
            "Requirement already satisfied: smmap<5,>=3.0.1 in /usr/local/lib/python3.7/dist-packages (from gitdb<5,>=4.0.1->gitpython->streamlit) (4.0.0)\n",
            "Requirement already satisfied: notebook>=4.4.1 in /usr/local/lib/python3.7/dist-packages (from widgetsnbextension~=3.5.0->ipywidgets>=7.0.0->pydeck>=0.1.dev5->streamlit) (5.3.1)\n",
            "Requirement already satisfied: prompt-toolkit<2.0.0,>=1.0.4 in /usr/local/lib/python3.7/dist-packages (from ipython>=4.0.0; python_version >= \"3.3\"->ipywidgets>=7.0.0->pydeck>=0.1.dev5->streamlit) (1.0.18)\n",
            "Requirement already satisfied: pygments in /usr/local/lib/python3.7/dist-packages (from ipython>=4.0.0; python_version >= \"3.3\"->ipywidgets>=7.0.0->pydeck>=0.1.dev5->streamlit) (2.6.1)\n",
            "Requirement already satisfied: pexpect; sys_platform != \"win32\" in /usr/local/lib/python3.7/dist-packages (from ipython>=4.0.0; python_version >= \"3.3\"->ipywidgets>=7.0.0->pydeck>=0.1.dev5->streamlit) (4.8.0)\n",
            "Requirement already satisfied: simplegeneric>0.8 in /usr/local/lib/python3.7/dist-packages (from ipython>=4.0.0; python_version >= \"3.3\"->ipywidgets>=7.0.0->pydeck>=0.1.dev5->streamlit) (0.8.1)\n",
            "Requirement already satisfied: pickleshare in /usr/local/lib/python3.7/dist-packages (from ipython>=4.0.0; python_version >= \"3.3\"->ipywidgets>=7.0.0->pydeck>=0.1.dev5->streamlit) (0.7.5)\n",
            "Requirement already satisfied: jupyter-core in /usr/local/lib/python3.7/dist-packages (from nbformat>=4.2.0->ipywidgets>=7.0.0->pydeck>=0.1.dev5->streamlit) (4.7.1)\n",
            "Requirement already satisfied: pyzmq>=13 in /usr/local/lib/python3.7/dist-packages (from jupyter-client->ipykernel>=5.1.2; python_version >= \"3.4\"->pydeck>=0.1.dev5->streamlit) (22.0.3)\n",
            "Requirement already satisfied: Send2Trash in /usr/local/lib/python3.7/dist-packages (from notebook>=4.4.1->widgetsnbextension~=3.5.0->ipywidgets>=7.0.0->pydeck>=0.1.dev5->streamlit) (1.5.0)\n",
            "Requirement already satisfied: terminado>=0.8.1 in /usr/local/lib/python3.7/dist-packages (from notebook>=4.4.1->widgetsnbextension~=3.5.0->ipywidgets>=7.0.0->pydeck>=0.1.dev5->streamlit) (0.9.4)\n",
            "Requirement already satisfied: nbconvert in /usr/local/lib/python3.7/dist-packages (from notebook>=4.4.1->widgetsnbextension~=3.5.0->ipywidgets>=7.0.0->pydeck>=0.1.dev5->streamlit) (5.6.1)\n",
            "Requirement already satisfied: wcwidth in /usr/local/lib/python3.7/dist-packages (from prompt-toolkit<2.0.0,>=1.0.4->ipython>=4.0.0; python_version >= \"3.3\"->ipywidgets>=7.0.0->pydeck>=0.1.dev5->streamlit) (0.2.5)\n",
            "Requirement already satisfied: ptyprocess>=0.5 in /usr/local/lib/python3.7/dist-packages (from pexpect; sys_platform != \"win32\"->ipython>=4.0.0; python_version >= \"3.3\"->ipywidgets>=7.0.0->pydeck>=0.1.dev5->streamlit) (0.7.0)\n",
            "Requirement already satisfied: mistune<2,>=0.8.1 in /usr/local/lib/python3.7/dist-packages (from nbconvert->notebook>=4.4.1->widgetsnbextension~=3.5.0->ipywidgets>=7.0.0->pydeck>=0.1.dev5->streamlit) (0.8.4)\n",
            "Requirement already satisfied: pandocfilters>=1.4.1 in /usr/local/lib/python3.7/dist-packages (from nbconvert->notebook>=4.4.1->widgetsnbextension~=3.5.0->ipywidgets>=7.0.0->pydeck>=0.1.dev5->streamlit) (1.4.3)\n",
            "Requirement already satisfied: defusedxml in /usr/local/lib/python3.7/dist-packages (from nbconvert->notebook>=4.4.1->widgetsnbextension~=3.5.0->ipywidgets>=7.0.0->pydeck>=0.1.dev5->streamlit) (0.7.1)\n",
            "Requirement already satisfied: bleach in /usr/local/lib/python3.7/dist-packages (from nbconvert->notebook>=4.4.1->widgetsnbextension~=3.5.0->ipywidgets>=7.0.0->pydeck>=0.1.dev5->streamlit) (3.3.0)\n",
            "Requirement already satisfied: testpath in /usr/local/lib/python3.7/dist-packages (from nbconvert->notebook>=4.4.1->widgetsnbextension~=3.5.0->ipywidgets>=7.0.0->pydeck>=0.1.dev5->streamlit) (0.4.4)\n",
            "Requirement already satisfied: webencodings in /usr/local/lib/python3.7/dist-packages (from bleach->nbconvert->notebook>=4.4.1->widgetsnbextension~=3.5.0->ipywidgets>=7.0.0->pydeck>=0.1.dev5->streamlit) (0.5.1)\n"
          ],
          "name": "stdout"
        }
      ]
    },
    {
      "cell_type": "code",
      "metadata": {
        "colab": {
          "base_uri": "https://localhost:8080/"
        },
        "id": "XELkXBrVJ3W6",
        "outputId": "e7f0e711-9afd-4b09-82fb-577d523ccbf8"
      },
      "source": [
        "# Mounting Google Drive\n",
        "from google.colab import drive\n",
        "drive.mount('/content/drive')"
      ],
      "execution_count": null,
      "outputs": [
        {
          "output_type": "stream",
          "text": [
            "Drive already mounted at /content/drive; to attempt to forcibly remount, call drive.mount(\"/content/drive\", force_remount=True).\n"
          ],
          "name": "stdout"
        }
      ]
    },
    {
      "cell_type": "code",
      "metadata": {
        "colab": {
          "base_uri": "https://localhost:8080/"
        },
        "id": "SMZ43mvQJ6XI",
        "outputId": "5dab03a7-3ca2-4de4-e52e-f1cab183d0a7"
      },
      "source": [
        "!pip install pyngrok"
      ],
      "execution_count": null,
      "outputs": [
        {
          "output_type": "stream",
          "text": [
            "Collecting pyngrok\n",
            "\u001b[?25l  Downloading https://files.pythonhosted.org/packages/6b/4e/a2fe095bbe17cf26424c4abcd22a0490e22d01cc628f25af5e220ddbf6f0/pyngrok-5.0.5.tar.gz (745kB)\n",
            "\r\u001b[K     |▍                               | 10kB 16.4MB/s eta 0:00:01\r\u001b[K     |▉                               | 20kB 21.9MB/s eta 0:00:01\r\u001b[K     |█▎                              | 30kB 25.4MB/s eta 0:00:01\r\u001b[K     |█▊                              | 40kB 23.8MB/s eta 0:00:01\r\u001b[K     |██▏                             | 51kB 23.0MB/s eta 0:00:01\r\u001b[K     |██▋                             | 61kB 16.7MB/s eta 0:00:01\r\u001b[K     |███                             | 71kB 17.3MB/s eta 0:00:01\r\u001b[K     |███▌                            | 81kB 15.7MB/s eta 0:00:01\r\u001b[K     |████                            | 92kB 15.1MB/s eta 0:00:01\r\u001b[K     |████▍                           | 102kB 16.1MB/s eta 0:00:01\r\u001b[K     |████▉                           | 112kB 16.1MB/s eta 0:00:01\r\u001b[K     |█████▎                          | 122kB 16.1MB/s eta 0:00:01\r\u001b[K     |█████▊                          | 133kB 16.1MB/s eta 0:00:01\r\u001b[K     |██████▏                         | 143kB 16.1MB/s eta 0:00:01\r\u001b[K     |██████▋                         | 153kB 16.1MB/s eta 0:00:01\r\u001b[K     |███████                         | 163kB 16.1MB/s eta 0:00:01\r\u001b[K     |███████▌                        | 174kB 16.1MB/s eta 0:00:01\r\u001b[K     |████████                        | 184kB 16.1MB/s eta 0:00:01\r\u001b[K     |████████▍                       | 194kB 16.1MB/s eta 0:00:01\r\u001b[K     |████████▉                       | 204kB 16.1MB/s eta 0:00:01\r\u001b[K     |█████████▎                      | 215kB 16.1MB/s eta 0:00:01\r\u001b[K     |█████████▊                      | 225kB 16.1MB/s eta 0:00:01\r\u001b[K     |██████████▏                     | 235kB 16.1MB/s eta 0:00:01\r\u001b[K     |██████████▌                     | 245kB 16.1MB/s eta 0:00:01\r\u001b[K     |███████████                     | 256kB 16.1MB/s eta 0:00:01\r\u001b[K     |███████████▍                    | 266kB 16.1MB/s eta 0:00:01\r\u001b[K     |███████████▉                    | 276kB 16.1MB/s eta 0:00:01\r\u001b[K     |████████████▎                   | 286kB 16.1MB/s eta 0:00:01\r\u001b[K     |████████████▊                   | 296kB 16.1MB/s eta 0:00:01\r\u001b[K     |█████████████▏                  | 307kB 16.1MB/s eta 0:00:01\r\u001b[K     |█████████████▋                  | 317kB 16.1MB/s eta 0:00:01\r\u001b[K     |██████████████                  | 327kB 16.1MB/s eta 0:00:01\r\u001b[K     |██████████████▌                 | 337kB 16.1MB/s eta 0:00:01\r\u001b[K     |███████████████                 | 348kB 16.1MB/s eta 0:00:01\r\u001b[K     |███████████████▍                | 358kB 16.1MB/s eta 0:00:01\r\u001b[K     |███████████████▉                | 368kB 16.1MB/s eta 0:00:01\r\u001b[K     |████████████████▎               | 378kB 16.1MB/s eta 0:00:01\r\u001b[K     |████████████████▊               | 389kB 16.1MB/s eta 0:00:01\r\u001b[K     |█████████████████▏              | 399kB 16.1MB/s eta 0:00:01\r\u001b[K     |█████████████████▋              | 409kB 16.1MB/s eta 0:00:01\r\u001b[K     |██████████████████              | 419kB 16.1MB/s eta 0:00:01\r\u001b[K     |██████████████████▌             | 430kB 16.1MB/s eta 0:00:01\r\u001b[K     |███████████████████             | 440kB 16.1MB/s eta 0:00:01\r\u001b[K     |███████████████████▍            | 450kB 16.1MB/s eta 0:00:01\r\u001b[K     |███████████████████▉            | 460kB 16.1MB/s eta 0:00:01\r\u001b[K     |████████████████████▎           | 471kB 16.1MB/s eta 0:00:01\r\u001b[K     |████████████████████▊           | 481kB 16.1MB/s eta 0:00:01\r\u001b[K     |█████████████████████           | 491kB 16.1MB/s eta 0:00:01\r\u001b[K     |█████████████████████▌          | 501kB 16.1MB/s eta 0:00:01\r\u001b[K     |██████████████████████          | 512kB 16.1MB/s eta 0:00:01\r\u001b[K     |██████████████████████▍         | 522kB 16.1MB/s eta 0:00:01\r\u001b[K     |██████████████████████▉         | 532kB 16.1MB/s eta 0:00:01\r\u001b[K     |███████████████████████▎        | 542kB 16.1MB/s eta 0:00:01\r\u001b[K     |███████████████████████▊        | 552kB 16.1MB/s eta 0:00:01\r\u001b[K     |████████████████████████▏       | 563kB 16.1MB/s eta 0:00:01\r\u001b[K     |████████████████████████▋       | 573kB 16.1MB/s eta 0:00:01\r\u001b[K     |█████████████████████████       | 583kB 16.1MB/s eta 0:00:01\r\u001b[K     |█████████████████████████▌      | 593kB 16.1MB/s eta 0:00:01\r\u001b[K     |██████████████████████████      | 604kB 16.1MB/s eta 0:00:01\r\u001b[K     |██████████████████████████▍     | 614kB 16.1MB/s eta 0:00:01\r\u001b[K     |██████████████████████████▉     | 624kB 16.1MB/s eta 0:00:01\r\u001b[K     |███████████████████████████▎    | 634kB 16.1MB/s eta 0:00:01\r\u001b[K     |███████████████████████████▊    | 645kB 16.1MB/s eta 0:00:01\r\u001b[K     |████████████████████████████▏   | 655kB 16.1MB/s eta 0:00:01\r\u001b[K     |████████████████████████████▋   | 665kB 16.1MB/s eta 0:00:01\r\u001b[K     |█████████████████████████████   | 675kB 16.1MB/s eta 0:00:01\r\u001b[K     |█████████████████████████████▌  | 686kB 16.1MB/s eta 0:00:01\r\u001b[K     |██████████████████████████████  | 696kB 16.1MB/s eta 0:00:01\r\u001b[K     |██████████████████████████████▍ | 706kB 16.1MB/s eta 0:00:01\r\u001b[K     |██████████████████████████████▉ | 716kB 16.1MB/s eta 0:00:01\r\u001b[K     |███████████████████████████████▏| 727kB 16.1MB/s eta 0:00:01\r\u001b[K     |███████████████████████████████▋| 737kB 16.1MB/s eta 0:00:01\r\u001b[K     |████████████████████████████████| 747kB 16.1MB/s \n",
            "\u001b[?25hRequirement already satisfied: PyYAML in /usr/local/lib/python3.7/dist-packages (from pyngrok) (3.13)\n",
            "Building wheels for collected packages: pyngrok\n",
            "  Building wheel for pyngrok (setup.py) ... \u001b[?25l\u001b[?25hdone\n",
            "  Created wheel for pyngrok: filename=pyngrok-5.0.5-cp37-none-any.whl size=19246 sha256=a0b9ec88ba6a77106609281e13ef9b71b70f8aa1ac51ae17582bde9119cf320d\n",
            "  Stored in directory: /root/.cache/pip/wheels/0c/13/64/5ebbcc22eaf53fdf5766b397c1fb17c83f5775fdccf0ea1b88\n",
            "Successfully built pyngrok\n",
            "Installing collected packages: pyngrok\n",
            "Successfully installed pyngrok-5.0.5\n"
          ],
          "name": "stdout"
        }
      ]
    },
    {
      "cell_type": "code",
      "metadata": {
        "colab": {
          "base_uri": "https://localhost:8080/"
        },
        "id": "Bo1yxWA_J-0f",
        "outputId": "ef4b3e71-2cc3-41eb-c222-dedb82f464f0"
      },
      "source": [
        "!ngrok authtoken 1rQ8XkYyUBK9R8KvW6wdVZD6HNI_44Zoypk4KP8df9VdpBAuQ\n"
      ],
      "execution_count": null,
      "outputs": [
        {
          "output_type": "stream",
          "text": [
            "Authtoken saved to configuration file: /root/.ngrok2/ngrok.yml\n"
          ],
          "name": "stdout"
        }
      ]
    },
    {
      "cell_type": "code",
      "metadata": {
        "colab": {
          "base_uri": "https://localhost:8080/"
        },
        "id": "kQcKLfdeMzTO",
        "outputId": "c9561c21-eab6-44c3-fb57-d75ac8037c9d"
      },
      "source": [
        "%%writefile app.py\n",
        "import streamlit as st \n",
        "from PIL import Image\n",
        "import pickle\n",
        "import numpy as np\n",
        "import matplotlib.pyplot as plt\n",
        "import pandas as pd\n",
        "st.set_option('deprecation.showfileUploaderEncoding', False)\n",
        "# Load the pickled model\n",
        "model = pickle.load(open('/content/drive/My Drive/Knearestneighborclassifier.pkl', 'rb'))\n",
        "model_naive = pickle.load(open('/content/drive/My Drive/naivebayesclassifier.pkl', 'rb'))\n",
        "dataset= pd.read_csv('/content/drive/My Drive/titanic.csv')\n",
        "X=dataset[[\"Age\",\"SibSp\",\"Parch\",\"Fare\",\"Sex\",\"Pclass\"]]\n",
        "\n",
        "from sklearn.preprocessing import LabelEncoder\n",
        "labelencoder_X = LabelEncoder()\n",
        "X[\"Sex\"] = labelencoder_X.fit_transform(X[\"Sex\"])\n",
        "\n",
        "from sklearn.preprocessing import StandardScaler\n",
        "sc = StandardScaler()\n",
        "X = sc.fit_transform(X)\n",
        "def predict_note_authentication(Age,SibSp,Parch,Sex,Fare,Pclass):\n",
        " output= model.predict(sc.transform([[Age,SibSp,Parch,Sex,Fare,Pclass]]))\n",
        " print(\"Passenger will die =\", output)\n",
        " if output==[1]:\n",
        "  prediction=\"Passanger will survive\"\n",
        " else:\n",
        "  prediction=\"Passanger will die\"\n",
        " print(prediction)\n",
        " return prediction\n",
        "\n",
        "def predict_naive(Age,SibSp,Parch,Fare,Sex,Pclass):\n",
        " output= model_naive.predict(sc.transform([[Age,SibSp,Parch,Fare,Sex,Pclass]]))\n",
        " print(\"Passenger will die =\", output)\n",
        " if output==[1]:\n",
        "   prediction=\"Passanger will survive\"\n",
        " else:\n",
        "   prediction=\"Passanger will die\"\n",
        " print(prediction)\n",
        " return prediction\n",
        "def main():\n",
        "    \n",
        "    html_temp = \"\"\"\n",
        "   <div class=\"\" style=\"background-color:blue;\" >\n",
        "   <div class=\"clearfix\">           \n",
        "   <div class=\"col-md-12\">\n",
        "   <center><p style=\"font-size:40px;color:white;margin-top:10px;\">Poornima Institute of Engineering & Technology</p></center> \n",
        "   <center><p style=\"font-size:30px;color:white;margin-top:10px;\">Department of Computer Engineering</p></center> \n",
        "   <center><p style=\"font-size:25px;color:white;margin-top:10px;\"Machine Learning Lab Experiment</p></center> \n",
        "   </div>\n",
        "   </div>\n",
        "   </div>\n",
        "   \"\"\"\n",
        "    st.markdown(html_temp,unsafe_allow_html=True)\n",
        "    st.header(\"Passenger Will Survive Or Not Prediction using K nearest neighbor And Naive Bayes\")\n",
        "    \n",
        "  \n",
        "    Sex = st.number_input('Insert sex')\n",
        "    Age = st.number_input('Insert a Age',18,60)\n",
        "    SibSp = st.number_input('Insert a SibSp',0,10)\n",
        "    Parch = st.number_input('Insert a Parch',1,10)\n",
        "    Pclass = st.number_input('Insert a Pclass',18,60)\n",
        "   \n",
        "    Fare = st.number_input(\"Insert Fare\",1,15000)\n",
        "    resul=\"\"\n",
        "    if st.button(\"Predict\"):\n",
        "      result=predict_note_authentication(Age,SibSp,Parch,Fare,Sex,Pclass)\n",
        "      st.success('Model has predicted {}'.format(result))\n",
        "    if st.button(\"Naive Bayes Predict\"):\n",
        "      result=predict_naive(Age,SibSp,Parch,Fare,Sex,Pclass)\n",
        "      st.success('Model has predicted {}'.format(result))\n",
        "      \n",
        "    if st.button(\"About\"):\n",
        "      st.subheader(\"Developed by Satyam Sharma\")\n",
        "      st.subheader(\"Department of Computer Engineering\")\n",
        "\n",
        "if __name__=='__main__':\n",
        "  main()"
      ],
      "execution_count": null,
      "outputs": [
        {
          "output_type": "stream",
          "text": [
            "Overwriting app.py\n"
          ],
          "name": "stdout"
        }
      ]
    },
    {
      "cell_type": "code",
      "metadata": {
        "colab": {
          "base_uri": "https://localhost:8080/"
        },
        "id": "IVoQRbgnbMbn",
        "outputId": "9dc678f4-02a7-4f9a-838b-2fe690f88839"
      },
      "source": [
        "!nohup streamlit run  app.py &"
      ],
      "execution_count": null,
      "outputs": [
        {
          "output_type": "stream",
          "text": [
            "nohup: appending output to 'nohup.out'\n"
          ],
          "name": "stdout"
        }
      ]
    },
    {
      "cell_type": "code",
      "metadata": {
        "colab": {
          "base_uri": "https://localhost:8080/"
        },
        "id": "Nx2NvbLcbZ4A",
        "outputId": "501d5e6f-fbdb-4203-82e8-c2943e4a91c1"
      },
      "source": [
        "from pyngrok import ngrok\n",
        "url=ngrok.connect(port='8050')\n",
        "url"
      ],
      "execution_count": null,
      "outputs": [
        {
          "output_type": "execute_result",
          "data": {
            "text/plain": [
              "<NgrokTunnel: \"http://d7021901aa07.ngrok.io\" -> \"http://localhost:80\">"
            ]
          },
          "metadata": {
            "tags": []
          },
          "execution_count": 76
        }
      ]
    },
    {
      "cell_type": "code",
      "metadata": {
        "colab": {
          "base_uri": "https://localhost:8080/"
        },
        "id": "-dBW6UPvbi6m",
        "outputId": "6fdc0ff8-c1d9-4bbe-8696-fdb0400e82f8"
      },
      "source": [
        "!streamlit run --server.port 80 app.py"
      ],
      "execution_count": null,
      "outputs": [
        {
          "output_type": "stream",
          "text": [
            "2021-04-22 10:28:24.858 An update to the [server] config option section was detected. To have these changes be reflected, please restart streamlit.\n",
            "\u001b[0m\n",
            "\u001b[34m\u001b[1m  You can now view your Streamlit app in your browser.\u001b[0m\n",
            "\u001b[0m\n",
            "\u001b[34m  Network URL: \u001b[0m\u001b[1mhttp://172.28.0.2:80\u001b[0m\n",
            "\u001b[34m  External URL: \u001b[0m\u001b[1mhttp://34.86.207.27:80\u001b[0m\n",
            "\u001b[0m\n",
            "/content/app.py:16: SettingWithCopyWarning: \n",
            "A value is trying to be set on a copy of a slice from a DataFrame.\n",
            "Try using .loc[row_indexer,col_indexer] = value instead\n",
            "\n",
            "See the caveats in the documentation: https://pandas.pydata.org/pandas-docs/stable/user_guide/indexing.html#returning-a-view-versus-a-copy\n",
            "  X[\"Sex\"] = labelencoder_X.fit_transform(X[\"Sex\"])\n",
            "\u001b[34m  Stopping...\u001b[0m\n"
          ],
          "name": "stdout"
        }
      ]
    },
    {
      "cell_type": "code",
      "metadata": {
        "id": "dKYpvvzIcGAz"
      },
      "source": [
        "ngrok.kill()"
      ],
      "execution_count": null,
      "outputs": []
    }
  ]
}